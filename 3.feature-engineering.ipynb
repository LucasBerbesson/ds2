{
 "cells": [
  {
   "cell_type": "markdown",
   "metadata": {
    "slideshow": {
     "slide_type": "slide"
    }
   },
   "source": [
    "# Feature Engineering\n",
    "\n",
    "> Feature engineering is the process of using domain knowledge of the data to create features that make machine learning algorithms work. (wikipedia)"
   ]
  },
  {
   "cell_type": "code",
   "execution_count": null,
   "metadata": {
    "slideshow": {
     "slide_type": "slide"
    }
   },
   "outputs": [],
   "source": [
    "from modules.utils import get_data,is_day_off\n",
    "df = get_data()"
   ]
  },
  {
   "cell_type": "code",
   "execution_count": null,
   "metadata": {},
   "outputs": [],
   "source": [
    "df.head()"
   ]
  },
  {
   "cell_type": "markdown",
   "metadata": {
    "slideshow": {
     "slide_type": "fragment"
    }
   },
   "source": [
    "## Currently what is $X$ and what is $Y$ ?"
   ]
  },
  {
   "cell_type": "markdown",
   "metadata": {
    "slideshow": {
     "slide_type": "slide"
    }
   },
   "source": [
    "## Workshop : find some new features (15min)\n",
    "Only use available data: \n",
    "- Consumption for each day\n",
    "- Temperature for each day\n",
    "- is_day_off function"
   ]
  },
  {
   "cell_type": "markdown",
   "metadata": {},
   "source": [
    "# is_day_off"
   ]
  },
  {
   "cell_type": "code",
   "execution_count": null,
   "metadata": {
    "slideshow": {
     "slide_type": "slide"
    }
   },
   "outputs": [],
   "source": [
    "def compute_day_off(date):\n",
    "    if is_day_off(date):\n",
    "        return 1\n",
    "    return 0\n",
    "\n",
    "df['is_day_off'] = df['Date'].apply(compute_day_off)"
   ]
  },
  {
   "cell_type": "code",
   "execution_count": null,
   "metadata": {},
   "outputs": [],
   "source": [
    "df.head()"
   ]
  },
  {
   "cell_type": "code",
   "execution_count": null,
   "metadata": {},
   "outputs": [],
   "source": [
    "import seaborn as sns\n",
    "%matplotlib inline\n",
    "\n",
    "sns.countplot(df['is_day_off'])"
   ]
  },
  {
   "cell_type": "markdown",
   "metadata": {},
   "source": [
    "## conso_24h_lag\n",
    "Since we have all half hours per day, we can safely make a shift of the dataset to get the 24h consumption lag !  \n",
    "We can also use 24 lag values since we are only predicting for the next day  \n",
    "Thanks to cleaning step "
   ]
  },
  {
   "cell_type": "code",
   "execution_count": null,
   "metadata": {},
   "outputs": [],
   "source": [
    "df['conso_24_lag'] = df['Conso'].shift(48)"
   ]
  },
  {
   "cell_type": "code",
   "execution_count": null,
   "metadata": {},
   "outputs": [],
   "source": [
    "df.head()"
   ]
  },
  {
   "cell_type": "code",
   "execution_count": null,
   "metadata": {},
   "outputs": [],
   "source": [
    "import plotly.offline as py\n",
    "import plotly.graph_objs as go\n",
    "\n",
    "data = [go.Scatter( x=df[:200]['Date'], y=(df[:200]['Conso'])),go.Scatter( x=df[:200]['Date'], y=(df[:200]['conso_24_lag']))]\n",
    "py.plot(data)"
   ]
  },
  {
   "cell_type": "markdown",
   "metadata": {},
   "source": [
    "## conso_7_days_lag"
   ]
  },
  {
   "cell_type": "code",
   "execution_count": null,
   "metadata": {},
   "outputs": [],
   "source": [
    "df['conso_7_days_lag'] = df['Conso'].shift(336)"
   ]
  },
  {
   "cell_type": "code",
   "execution_count": null,
   "metadata": {},
   "outputs": [],
   "source": [
    "df.sample(10)"
   ]
  },
  {
   "cell_type": "markdown",
   "metadata": {},
   "source": [
    "# is_weekend"
   ]
  },
  {
   "cell_type": "code",
   "execution_count": null,
   "metadata": {},
   "outputs": [],
   "source": [
    "from datetime import datetime\n",
    "\n",
    "def is_weekend(date):\n",
    "    if date.weekday() >=5:\n",
    "        return 1\n",
    "    return 0\n",
    "\n",
    "df['is_weekend'] = df['Date'].apply(is_weekend)"
   ]
  },
  {
   "cell_type": "code",
   "execution_count": null,
   "metadata": {},
   "outputs": [],
   "source": [
    "df.sample(10)"
   ]
  },
  {
   "cell_type": "markdown",
   "metadata": {},
   "source": [
    "# day_of_week"
   ]
  },
  {
   "cell_type": "code",
   "execution_count": null,
   "metadata": {},
   "outputs": [],
   "source": [
    "df['day_of_week']=df['Date'].dt.weekday"
   ]
  },
  {
   "cell_type": "code",
   "execution_count": null,
   "metadata": {},
   "outputs": [],
   "source": [
    "df.sample(5)"
   ]
  },
  {
   "cell_type": "code",
   "execution_count": null,
   "metadata": {},
   "outputs": [],
   "source": [
    "import seaborn as sns\n",
    "import matplotlib.pyplot as plt\n",
    "\n",
    "plt.figure(figsize=(12, 7))\n",
    "sns.boxplot(x='day_of_week',y='Conso',data=df)"
   ]
  },
  {
   "cell_type": "markdown",
   "metadata": {},
   "source": [
    "# temp_rolling_7_days"
   ]
  },
  {
   "cell_type": "code",
   "execution_count": null,
   "metadata": {},
   "outputs": [],
   "source": [
    "df[\"temp_rolling_7_days\"] = df[\"Temp\"].rolling(window=48*7).mean()"
   ]
  },
  {
   "cell_type": "code",
   "execution_count": null,
   "metadata": {},
   "outputs": [],
   "source": [
    "import plotly.offline as py\n",
    "import plotly.graph_objs as go\n",
    "\n",
    "data = [go.Scatter( x=df[:10000]['Date'], y=(df[:10000]['Temp'])),go.Scatter( x=df[:10000]['Date'], y=(df[:10000]['temp_rolling_7_days']))]\n",
    "py.plot(data)"
   ]
  },
  {
   "cell_type": "markdown",
   "metadata": {},
   "source": [
    "# Heating and cooling degrees"
   ]
  },
  {
   "cell_type": "code",
   "execution_count": null,
   "metadata": {},
   "outputs": [],
   "source": [
    "def heating_degrees(temperature):\n",
    "    \"\"\"\n",
    "    A heating degree day (HDD) is a measurement designed \n",
    "    to quantify the demand for energy needed to heat a building. \n",
    "    It is the number of degrees a temperature is below 18°C,\n",
    "    which is the temperature below which buildings need to be heated. \n",
    "    \"\"\"\n",
    "    return max(18-temperature,0)\n",
    "\n",
    "\n",
    "def cooling_degrees(temperature):\n",
    "    \"\"\"\n",
    "    A cooling degree day (CDD) is a measurement designed \n",
    "    to quantify the demand for energy needed to cool a building.\n",
    "    It is the number of degrees that a temperature is above 24°C,\n",
    "    \"\"\"\n",
    "    return max(temperature-24,0)\n",
    "    "
   ]
  },
  {
   "cell_type": "code",
   "execution_count": null,
   "metadata": {},
   "outputs": [],
   "source": [
    "df[\"heating_degrees\"] = df[\"Temp\"].apply(heating_degrees)\n",
    "df[\"cooling_degrees\"] = df[\"Temp\"].apply(cooling_degrees)"
   ]
  },
  {
   "cell_type": "markdown",
   "metadata": {},
   "source": [
    "# Automate everyting"
   ]
  },
  {
   "cell_type": "code",
   "execution_count": null,
   "metadata": {},
   "outputs": [],
   "source": [
    "def compute_day_off(date):\n",
    "    if is_day_off(date):\n",
    "        return 1\n",
    "    return 0\n",
    "\n",
    "\n",
    "def is_weekend(date):\n",
    "    if date.weekday() >=5:\n",
    "        return 1\n",
    "    return 0\n",
    "\n",
    "def heating_degrees(temperature):\n",
    "    \"\"\"\n",
    "    A heating degree day (HDD) is a measurement designed \n",
    "    to quantify the demand for energy needed to heat a building. \n",
    "    It is the number of degrees a temperature is below 18°C,\n",
    "    which is the temperature below which buildings need to be heated. \n",
    "    \"\"\"\n",
    "    return max(18-temperature,0)\n",
    "\n",
    "\n",
    "def cooling_degrees(temperature):\n",
    "    \"\"\"\n",
    "    A cooling degree day (CDD) is a measurement designed \n",
    "    to quantify the demand for energy needed to cool a building.\n",
    "    It is the number of degrees that a temperature is above 24°C,\n",
    "    \"\"\"\n",
    "    return max(temperature-24,0)\n",
    "\n",
    "from datetime import datetime, timedelta\n",
    "\n",
    "def is_bridge(date):\n",
    "    \"\"\"\n",
    "    Check if a datetime is a holiday bridge \n",
    "    (friday with thursday off or mondy with tuesday off)\n",
    "    \"\"\"\n",
    "    weekday = date.weekday()\n",
    "    if weekday == 4:\n",
    "        return is_day_off(date-timedelta(days=1))\n",
    "    elif weekday == 0:\n",
    "        return is_day_off(date+timedelta(days=1))\n",
    "    return False\n",
    "\n",
    "def get_data_with_features(consumption_csv=\"./data/eco2mix_regional_cons_def.csv\",weather_csv=\"./data/meteo-paris.csv\"):\n",
    "    \"\"\"\n",
    "    A function to get consumption and weather data\n",
    "    Do the wrangling\n",
    "    Add interesting features\n",
    "    \n",
    "    \"\"\"\n",
    "    df = get_data(consumption_csv,weather_csv)\n",
    "    df['is_day_off'] = df['Date'].apply(compute_day_off)\n",
    "    df['is_bridge'] = df['Date'].apply(is_bridge)\n",
    "    df['conso_24_lag'] = df['Conso'].shift(48)\n",
    "    df['temp_24_lag'] = df['Temp'].shift(48)\n",
    "    df['conso_7_days_lag'] = df['Conso'].shift(48*7)\n",
    "    df[\"heating_degrees\"] = df[\"Temp\"].apply(heating_degrees)\n",
    "    df[\"cooling_degrees\"] = df[\"Temp\"].apply(cooling_degrees)\n",
    "    df['is_weekend'] = df['Date'].apply(is_weekend)\n",
    "    df['day_of_week']=df['Date'].dt.weekday\n",
    "    df[\"temp_rolling_7_days\"] = df[\"Temp\"].rolling(window=336).mean()\n",
    "    df['month']=df['Date'].dt.month\n",
    "    #df.set_index(\"Date\",inplace=True)\n",
    "    return df.dropna()"
   ]
  },
  {
   "cell_type": "code",
   "execution_count": null,
   "metadata": {},
   "outputs": [],
   "source": [
    "df = get_data_with_features()"
   ]
  },
  {
   "cell_type": "code",
   "execution_count": null,
   "metadata": {},
   "outputs": [],
   "source": [
    "df.tail(10)"
   ]
  },
  {
   "cell_type": "markdown",
   "metadata": {},
   "source": [
    "![xkcd](https://imgs.xkcd.com/comics/machine_learning.png)"
   ]
  },
  {
   "cell_type": "code",
   "execution_count": null,
   "metadata": {},
   "outputs": [],
   "source": []
  }
 ],
 "metadata": {
  "celltoolbar": "Slideshow",
  "kernelspec": {
   "display_name": "Python 3",
   "language": "python",
   "name": "python3"
  },
  "language_info": {
   "codemirror_mode": {
    "name": "ipython",
    "version": 3
   },
   "file_extension": ".py",
   "mimetype": "text/x-python",
   "name": "python",
   "nbconvert_exporter": "python",
   "pygments_lexer": "ipython3",
   "version": "3.6.5"
  }
 },
 "nbformat": 4,
 "nbformat_minor": 2
}
