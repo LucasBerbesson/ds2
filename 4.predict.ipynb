{
 "cells": [
  {
   "cell_type": "markdown",
   "metadata": {},
   "source": [
    "# Frame the problem\n",
    "\n",
    "**Challenge** : Predict the consumption of electrictity in Paris every 15 minutes at J+1\n",
    "\n",
    "**Goal** : implement a model to estimate the electrictity consumption based on some historical data. It is a typical supervised learning task since we will be working with some labelled training examples (each instance comes with the expected output, ie. the electricity consumption in Paris for a given date). Moreover, it is also a typical regression task, since we try to predict a value. More specifically this is a multivariate regression problem since the system will use multiple features to make a prediction.\n",
    "\n",
    "# Select a performance measure\n",
    "\n",
    "Accuracy of the models will be measured with the **mean absolute percentage error (MAPE)**.  \n",
    "It is basically a measurement of prediction accuracy.\n",
    "\n",
    "$$M = \\frac{100\\%}{n} \\sum_{i=1}^n | \\frac{C_i - {C_i}^*}{C_i} |\\$$\n",
    "\n",
    "\n",
    "where $C_i$  is the real consumption, $C_i^∗$ the estimated consumption, and n the number of guess (96 for one day).\n",
    "\n",
    "\n",
    "# Get the data"
   ]
  },
  {
   "cell_type": "code",
   "execution_count": 1,
   "metadata": {},
   "outputs": [],
   "source": [
    "import pandas as pd\n",
    "import numpy as np\n",
    "import matplotlib.pyplot as plt\n",
    "import seaborn as sns\n",
    "%matplotlib inline\n",
    "import requests\n",
    "import bs4 as BeautifulSoup\n",
    "import datetime\n",
    "from modules.utils import get_data_with_features"
   ]
  },
  {
   "cell_type": "code",
   "execution_count": 2,
   "metadata": {},
   "outputs": [],
   "source": [
    "df = get_data_with_features()"
   ]
  },
  {
   "cell_type": "code",
   "execution_count": 3,
   "metadata": {},
   "outputs": [
    {
     "data": {
      "text/html": [
       "<div>\n",
       "<style scoped>\n",
       "    .dataframe tbody tr th:only-of-type {\n",
       "        vertical-align: middle;\n",
       "    }\n",
       "\n",
       "    .dataframe tbody tr th {\n",
       "        vertical-align: top;\n",
       "    }\n",
       "\n",
       "    .dataframe thead th {\n",
       "        text-align: right;\n",
       "    }\n",
       "</style>\n",
       "<table border=\"1\" class=\"dataframe\">\n",
       "  <thead>\n",
       "    <tr style=\"text-align: right;\">\n",
       "      <th></th>\n",
       "      <th>Conso</th>\n",
       "      <th>Temp</th>\n",
       "      <th>is_day_off</th>\n",
       "      <th>conso_24_lag</th>\n",
       "      <th>conso_7_days_lag</th>\n",
       "      <th>is_weekend</th>\n",
       "      <th>day_of_week</th>\n",
       "    </tr>\n",
       "    <tr>\n",
       "      <th>Date</th>\n",
       "      <th></th>\n",
       "      <th></th>\n",
       "      <th></th>\n",
       "      <th></th>\n",
       "      <th></th>\n",
       "      <th></th>\n",
       "      <th></th>\n",
       "    </tr>\n",
       "  </thead>\n",
       "  <tbody>\n",
       "    <tr>\n",
       "      <th>2014-10-11 22:00:00</th>\n",
       "      <td>7071.0</td>\n",
       "      <td>282.904000</td>\n",
       "      <td>0</td>\n",
       "      <td>7051.0</td>\n",
       "      <td>6644.0</td>\n",
       "      <td>1</td>\n",
       "      <td>5</td>\n",
       "    </tr>\n",
       "    <tr>\n",
       "      <th>2015-10-29 10:30:00</th>\n",
       "      <td>9584.0</td>\n",
       "      <td>284.455098</td>\n",
       "      <td>0</td>\n",
       "      <td>9245.0</td>\n",
       "      <td>10007.0</td>\n",
       "      <td>0</td>\n",
       "      <td>3</td>\n",
       "    </tr>\n",
       "    <tr>\n",
       "      <th>2014-09-29 07:30:00</th>\n",
       "      <td>8056.0</td>\n",
       "      <td>289.365500</td>\n",
       "      <td>0</td>\n",
       "      <td>5569.0</td>\n",
       "      <td>7867.0</td>\n",
       "      <td>0</td>\n",
       "      <td>0</td>\n",
       "    </tr>\n",
       "    <tr>\n",
       "      <th>2014-05-21 11:00:00</th>\n",
       "      <td>8886.0</td>\n",
       "      <td>286.910000</td>\n",
       "      <td>0</td>\n",
       "      <td>8456.0</td>\n",
       "      <td>8909.0</td>\n",
       "      <td>0</td>\n",
       "      <td>2</td>\n",
       "    </tr>\n",
       "    <tr>\n",
       "      <th>2016-01-30 18:00:00</th>\n",
       "      <td>10980.0</td>\n",
       "      <td>279.650000</td>\n",
       "      <td>0</td>\n",
       "      <td>11829.0</td>\n",
       "      <td>11710.0</td>\n",
       "      <td>1</td>\n",
       "      <td>5</td>\n",
       "    </tr>\n",
       "    <tr>\n",
       "      <th>2016-03-22 19:00:00</th>\n",
       "      <td>10926.0</td>\n",
       "      <td>281.470000</td>\n",
       "      <td>0</td>\n",
       "      <td>11650.0</td>\n",
       "      <td>11372.0</td>\n",
       "      <td>0</td>\n",
       "      <td>1</td>\n",
       "    </tr>\n",
       "    <tr>\n",
       "      <th>2015-10-10 17:30:00</th>\n",
       "      <td>8056.0</td>\n",
       "      <td>287.725000</td>\n",
       "      <td>0</td>\n",
       "      <td>8807.0</td>\n",
       "      <td>7461.0</td>\n",
       "      <td>1</td>\n",
       "      <td>5</td>\n",
       "    </tr>\n",
       "    <tr>\n",
       "      <th>2014-12-21 02:00:00</th>\n",
       "      <td>7931.0</td>\n",
       "      <td>278.426000</td>\n",
       "      <td>0</td>\n",
       "      <td>7770.0</td>\n",
       "      <td>8646.0</td>\n",
       "      <td>1</td>\n",
       "      <td>6</td>\n",
       "    </tr>\n",
       "    <tr>\n",
       "      <th>2017-04-03 16:00:00</th>\n",
       "      <td>7499.0</td>\n",
       "      <td>292.140000</td>\n",
       "      <td>0</td>\n",
       "      <td>6271.0</td>\n",
       "      <td>8009.0</td>\n",
       "      <td>0</td>\n",
       "      <td>0</td>\n",
       "    </tr>\n",
       "    <tr>\n",
       "      <th>2015-02-21 23:30:00</th>\n",
       "      <td>10616.0</td>\n",
       "      <td>274.999833</td>\n",
       "      <td>0</td>\n",
       "      <td>10123.0</td>\n",
       "      <td>9883.0</td>\n",
       "      <td>1</td>\n",
       "      <td>5</td>\n",
       "    </tr>\n",
       "  </tbody>\n",
       "</table>\n",
       "</div>"
      ],
      "text/plain": [
       "                       Conso        Temp  is_day_off  conso_24_lag  \\\n",
       "Date                                                                 \n",
       "2014-10-11 22:00:00   7071.0  282.904000           0        7051.0   \n",
       "2015-10-29 10:30:00   9584.0  284.455098           0        9245.0   \n",
       "2014-09-29 07:30:00   8056.0  289.365500           0        5569.0   \n",
       "2014-05-21 11:00:00   8886.0  286.910000           0        8456.0   \n",
       "2016-01-30 18:00:00  10980.0  279.650000           0       11829.0   \n",
       "2016-03-22 19:00:00  10926.0  281.470000           0       11650.0   \n",
       "2015-10-10 17:30:00   8056.0  287.725000           0        8807.0   \n",
       "2014-12-21 02:00:00   7931.0  278.426000           0        7770.0   \n",
       "2017-04-03 16:00:00   7499.0  292.140000           0        6271.0   \n",
       "2015-02-21 23:30:00  10616.0  274.999833           0       10123.0   \n",
       "\n",
       "                     conso_7_days_lag  is_weekend  day_of_week  \n",
       "Date                                                            \n",
       "2014-10-11 22:00:00            6644.0           1            5  \n",
       "2015-10-29 10:30:00           10007.0           0            3  \n",
       "2014-09-29 07:30:00            7867.0           0            0  \n",
       "2014-05-21 11:00:00            8909.0           0            2  \n",
       "2016-01-30 18:00:00           11710.0           1            5  \n",
       "2016-03-22 19:00:00           11372.0           0            1  \n",
       "2015-10-10 17:30:00            7461.0           1            5  \n",
       "2014-12-21 02:00:00            8646.0           1            6  \n",
       "2017-04-03 16:00:00            8009.0           0            0  \n",
       "2015-02-21 23:30:00            9883.0           1            5  "
      ]
     },
     "execution_count": 3,
     "metadata": {},
     "output_type": "execute_result"
    }
   ],
   "source": [
    "df.sample(10)"
   ]
  },
  {
   "cell_type": "markdown",
   "metadata": {},
   "source": [
    "# Take a quick look"
   ]
  },
  {
   "cell_type": "code",
   "execution_count": 201,
   "metadata": {},
   "outputs": [
    {
     "name": "stdout",
     "output_type": "stream",
     "text": [
      "<class 'pandas.core.frame.DataFrame'>\n",
      "DatetimeIndex: 86097 entries, 2013-01-08 00:00:00 to 2017-12-06 16:00:00\n",
      "Data columns (total 7 columns):\n",
      "Conso               86097 non-null float64\n",
      "Temp                86097 non-null float64\n",
      "is_day_off          86097 non-null int64\n",
      "conso_24_lag        86097 non-null float64\n",
      "conso_7_days_lag    86097 non-null float64\n",
      "is_weekend          86097 non-null int64\n",
      "day_of_week         86097 non-null int64\n",
      "dtypes: float64(4), int64(3)\n",
      "memory usage: 5.3 MB\n"
     ]
    }
   ],
   "source": [
    "df.info()"
   ]
  },
  {
   "cell_type": "code",
   "execution_count": 202,
   "metadata": {},
   "outputs": [
    {
     "data": {
      "text/html": [
       "<div>\n",
       "<style scoped>\n",
       "    .dataframe tbody tr th:only-of-type {\n",
       "        vertical-align: middle;\n",
       "    }\n",
       "\n",
       "    .dataframe tbody tr th {\n",
       "        vertical-align: top;\n",
       "    }\n",
       "\n",
       "    .dataframe thead th {\n",
       "        text-align: right;\n",
       "    }\n",
       "</style>\n",
       "<table border=\"1\" class=\"dataframe\">\n",
       "  <thead>\n",
       "    <tr style=\"text-align: right;\">\n",
       "      <th></th>\n",
       "      <th>Conso</th>\n",
       "      <th>Temp</th>\n",
       "      <th>is_day_off</th>\n",
       "      <th>conso_24_lag</th>\n",
       "      <th>conso_7_days_lag</th>\n",
       "      <th>is_weekend</th>\n",
       "      <th>day_of_week</th>\n",
       "    </tr>\n",
       "  </thead>\n",
       "  <tbody>\n",
       "    <tr>\n",
       "      <th>count</th>\n",
       "      <td>86097.000000</td>\n",
       "      <td>86097.000000</td>\n",
       "      <td>86097.000000</td>\n",
       "      <td>86097.000000</td>\n",
       "      <td>86097.000000</td>\n",
       "      <td>86097.000000</td>\n",
       "      <td>86097.000000</td>\n",
       "    </tr>\n",
       "    <tr>\n",
       "      <th>mean</th>\n",
       "      <td>8229.491841</td>\n",
       "      <td>285.140402</td>\n",
       "      <td>0.045158</td>\n",
       "      <td>8229.170505</td>\n",
       "      <td>8223.136625</td>\n",
       "      <td>0.285445</td>\n",
       "      <td>2.998502</td>\n",
       "    </tr>\n",
       "    <tr>\n",
       "      <th>std</th>\n",
       "      <td>2167.432896</td>\n",
       "      <td>7.087520</td>\n",
       "      <td>0.207653</td>\n",
       "      <td>2167.106115</td>\n",
       "      <td>2161.359658</td>\n",
       "      <td>0.451629</td>\n",
       "      <td>1.999724</td>\n",
       "    </tr>\n",
       "    <tr>\n",
       "      <th>min</th>\n",
       "      <td>3982.000000</td>\n",
       "      <td>262.608000</td>\n",
       "      <td>0.000000</td>\n",
       "      <td>3982.000000</td>\n",
       "      <td>3982.000000</td>\n",
       "      <td>0.000000</td>\n",
       "      <td>0.000000</td>\n",
       "    </tr>\n",
       "    <tr>\n",
       "      <th>25%</th>\n",
       "      <td>6634.000000</td>\n",
       "      <td>279.958000</td>\n",
       "      <td>0.000000</td>\n",
       "      <td>6634.000000</td>\n",
       "      <td>6634.000000</td>\n",
       "      <td>0.000000</td>\n",
       "      <td>1.000000</td>\n",
       "    </tr>\n",
       "    <tr>\n",
       "      <th>50%</th>\n",
       "      <td>7964.000000</td>\n",
       "      <td>284.950000</td>\n",
       "      <td>0.000000</td>\n",
       "      <td>7963.000000</td>\n",
       "      <td>7960.000000</td>\n",
       "      <td>0.000000</td>\n",
       "      <td>3.000000</td>\n",
       "    </tr>\n",
       "    <tr>\n",
       "      <th>75%</th>\n",
       "      <td>9677.000000</td>\n",
       "      <td>289.980000</td>\n",
       "      <td>0.000000</td>\n",
       "      <td>9677.000000</td>\n",
       "      <td>9667.000000</td>\n",
       "      <td>1.000000</td>\n",
       "      <td>5.000000</td>\n",
       "    </tr>\n",
       "    <tr>\n",
       "      <th>max</th>\n",
       "      <td>15286.000000</td>\n",
       "      <td>311.210000</td>\n",
       "      <td>1.000000</td>\n",
       "      <td>15286.000000</td>\n",
       "      <td>15286.000000</td>\n",
       "      <td>1.000000</td>\n",
       "      <td>6.000000</td>\n",
       "    </tr>\n",
       "  </tbody>\n",
       "</table>\n",
       "</div>"
      ],
      "text/plain": [
       "              Conso          Temp    is_day_off  conso_24_lag  \\\n",
       "count  86097.000000  86097.000000  86097.000000  86097.000000   \n",
       "mean    8229.491841    285.140402      0.045158   8229.170505   \n",
       "std     2167.432896      7.087520      0.207653   2167.106115   \n",
       "min     3982.000000    262.608000      0.000000   3982.000000   \n",
       "25%     6634.000000    279.958000      0.000000   6634.000000   \n",
       "50%     7964.000000    284.950000      0.000000   7963.000000   \n",
       "75%     9677.000000    289.980000      0.000000   9677.000000   \n",
       "max    15286.000000    311.210000      1.000000  15286.000000   \n",
       "\n",
       "       conso_7_days_lag    is_weekend   day_of_week  \n",
       "count      86097.000000  86097.000000  86097.000000  \n",
       "mean        8223.136625      0.285445      2.998502  \n",
       "std         2161.359658      0.451629      1.999724  \n",
       "min         3982.000000      0.000000      0.000000  \n",
       "25%         6634.000000      0.000000      1.000000  \n",
       "50%         7960.000000      0.000000      3.000000  \n",
       "75%         9667.000000      1.000000      5.000000  \n",
       "max        15286.000000      1.000000      6.000000  "
      ]
     },
     "execution_count": 202,
     "metadata": {},
     "output_type": "execute_result"
    }
   ],
   "source": [
    "df.describe()"
   ]
  },
  {
   "cell_type": "code",
   "execution_count": 203,
   "metadata": {},
   "outputs": [
    {
     "data": {
      "text/plain": [
       "<matplotlib.axes._subplots.AxesSubplot at 0x1102b1978>"
      ]
     },
     "execution_count": 203,
     "metadata": {},
     "output_type": "execute_result"
    },
    {
     "data": {
      "image/png": "[encoded data removed]",
      "text/plain": [
       "<matplotlib.figure.Figure at 0x1102d3b70>"
      ]
     },
     "metadata": {},
     "output_type": "display_data"
    }
   ],
   "source": [
    "sns.distplot(df['Conso'])"
   ]
  },
  {
   "cell_type": "code",
   "execution_count": 204,
   "metadata": {},
   "outputs": [
    {
     "data": {
      "text/plain": [
       "<matplotlib.axes._subplots.AxesSubplot at 0x110f3e438>"
      ]
     },
     "execution_count": 204,
     "metadata": {},
     "output_type": "execute_result"
    },
    {
     "data": {
      "image/png": "[encoded data removed]",
      "text/plain": [
       "<matplotlib.figure.Figure at 0x12cefb198>"
      ]
     },
     "metadata": {},
     "output_type": "display_data"
    }
   ],
   "source": [
    "sns.distplot(df['Temp'])"
   ]
  },
  {
   "cell_type": "markdown",
   "metadata": {},
   "source": [
    "# Create a test set\n",
    "\n",
    "A test set must be set aside as soon as possible to avoid overfitting.   \n",
    "Creating a test set is theoretically quite simple: just pick some instances randomly,\n",
    "typically 20% of the dataset, set them aside and you are done."
   ]
  },
  {
   "cell_type": "code",
   "execution_count": 205,
   "metadata": {},
   "outputs": [],
   "source": [
    "import numpy as np\n",
    "import numpy.random as rnd\n",
    "\n",
    "def split_train_test(df,test_ratio=0.25):\n",
    "    rnd.seed(42)\n",
    "    shuffled = rnd.permutation(len(df))\n",
    "    test_set_size = int(len(df)*test_ratio)\n",
    "    test_indices = shuffled[:test_set_size]\n",
    "    train_indices = shuffled[test_set_size:]\n",
    "    return df.iloc[train_indices],df.iloc[test_indices]"
   ]
  },
  {
   "cell_type": "code",
   "execution_count": 206,
   "metadata": {},
   "outputs": [
    {
     "name": "stdout",
     "output_type": "stream",
     "text": [
      "68878 train + 17219 test\n"
     ]
    }
   ],
   "source": [
    "train_set, test_set = split_train_test(df, 0.2)\n",
    "print(len(train_set), \"train +\", len(test_set), \"test\")"
   ]
  },
  {
   "cell_type": "markdown",
   "metadata": {},
   "source": [
    "But scikit learn provides a function to do that : "
   ]
  },
  {
   "cell_type": "code",
   "execution_count": 207,
   "metadata": {},
   "outputs": [],
   "source": [
    "from sklearn.model_selection import train_test_split\n",
    "\n",
    "train_set, test_set = train_test_split(df, test_size=0.2, random_state=42)"
   ]
  },
  {
   "cell_type": "markdown",
   "metadata": {},
   "source": [
    "Note : random sampling is good if the dataset is large enough relative to the number of attributes, when it is not your risk of introducing a sampling bias and should prefere a stratified sampling. "
   ]
  },
  {
   "cell_type": "markdown",
   "metadata": {},
   "source": [
    "# Discover and visualize the data\n",
    "\n",
    "Now the goal is to go a little bit more in depth. First, make sure you have put the test set aside and you are only exploring the training set."
   ]
  },
  {
   "cell_type": "code",
   "execution_count": null,
   "metadata": {},
   "outputs": [],
   "source": [
    "sns.pairplot(train_set)"
   ]
  },
  {
   "cell_type": "code",
   "execution_count": 208,
   "metadata": {},
   "outputs": [
    {
     "data": {
      "text/plain": [
       "<matplotlib.axes._subplots.AxesSubplot at 0x110a6c588>"
      ]
     },
     "execution_count": 208,
     "metadata": {},
     "output_type": "execute_result"
    },
    {
     "data": {
      "image/png": "[encoded data removed]",
      "text/plain": [
       "<matplotlib.figure.Figure at 0x110a396d8>"
      ]
     },
     "metadata": {},
     "output_type": "display_data"
    }
   ],
   "source": [
    "plt.figure(figsize=(12, 7))\n",
    "\n",
    "sns.boxplot(x='day_of_week',y='Conso',data=train_set)"
   ]
  },
  {
   "cell_type": "code",
   "execution_count": 209,
   "metadata": {},
   "outputs": [
    {
     "data": {
      "text/plain": [
       "'file:///Users/lucasberbesson/codeproject/datascience/ds2/temp-plot.html'"
      ]
     },
     "execution_count": 209,
     "metadata": {},
     "output_type": "execute_result"
    }
   ],
   "source": [
    "import plotly.offline as py\n",
    "import plotly.graph_objs as go\n",
    "\n",
    "\n",
    "data = [go.Scatter( x=df.index, y=(df[\"Conso\"]))]\n",
    "py.plot(data)"
   ]
  },
  {
   "cell_type": "code",
   "execution_count": 210,
   "metadata": {},
   "outputs": [
    {
     "data": {
      "text/plain": [
       "<matplotlib.axes._subplots.AxesSubplot at 0x12d10fef0>"
      ]
     },
     "execution_count": 210,
     "metadata": {},
     "output_type": "execute_result"
    },
    {
     "data": {
      "image/png": "[encoded data removed]",
      "text/plain": [
       "<matplotlib.figure.Figure at 0x1102b35c0>"
      ]
     },
     "metadata": {},
     "output_type": "display_data"
    }
   ],
   "source": [
    "plt.figure(figsize=(10, 7))\n",
    "sns.heatmap(df.corr(),cmap='coolwarm')"
   ]
  },
  {
   "cell_type": "markdown",
   "metadata": {},
   "source": [
    "# Prepare the data"
   ]
  },
  {
   "cell_type": "code",
   "execution_count": 211,
   "metadata": {},
   "outputs": [],
   "source": [
    "X_train = train_set.drop([\"Conso\"], axis=1)\n",
    "y_train = train_set[\"Conso\"].copy()\n",
    "\n",
    "X_test = train_set.drop([\"Conso\"], axis=1)\n",
    "y_test = train_set[\"Conso\"].copy()"
   ]
  },
  {
   "cell_type": "markdown",
   "metadata": {},
   "source": [
    "## Feature scaling\n",
    "\n",
    "Most of machine learning algorithm are based on distances (for example the euclidian distance).   \n",
    "When features have very different scales this can cause issues, the distances are dominated by some columns ....  \n",
    "There are two types of feature scaling : **Standardisation** and **Normalisation**. \n",
    "\n",
    "Feature scaling can also help algorithm to converge faster. \n",
    "\n",
    "\n",
    "### Standardisation\n",
    "This one does not bound values to a range but is less affected by outliers (which would crush values in normalisation...)\n",
    "\n",
    "$$X_{stand} = \\frac{x - mean(x)}{std(x)}$$\n"
   ]
  },
  {
   "cell_type": "code",
   "execution_count": 212,
   "metadata": {},
   "outputs": [],
   "source": [
    "from sklearn.preprocessing import StandardScaler\n",
    "\n",
    "std_scaler = StandardScaler()\n",
    "X_train_scaled= std_scaler.fit_transform(X_train[['Temp','conso_24_lag']])"
   ]
  },
  {
   "cell_type": "code",
   "execution_count": 213,
   "metadata": {},
   "outputs": [
    {
     "data": {
      "text/plain": [
       "array([[-1.2170094 ,  0.11644579],\n",
       "       [-0.76043962,  1.4171786 ],\n",
       "       [-1.09289289,  0.34440927],\n",
       "       ...,\n",
       "       [ 2.04840894, -0.41069087],\n",
       "       [-2.46924375,  2.40717823],\n",
       "       [-1.4772537 ,  0.1289306 ]])"
      ]
     },
     "execution_count": 213,
     "metadata": {},
     "output_type": "execute_result"
    }
   ],
   "source": [
    "X_train_scaled"
   ]
  },
  {
   "cell_type": "markdown",
   "metadata": {},
   "source": [
    "## Handling text attributes\n",
    "Most machine learning algorithm prefer to work with numerical values so you will need to convert text labels to numbers.\n",
    "\n",
    "\n",
    "### OneHotEncoding\n",
    "If you have ordinal categories (with a notion of order, like for example the size of a t-shirt), then transforming text categories to 1,2,3 ... is good, as long as the number attributed are in the same order.  \n",
    "But if you have nominal attributes, this notion of order will bias your model, so you need to make further transformations to your dataset. \n"
   ]
  },
  {
   "cell_type": "markdown",
   "metadata": {},
   "source": [
    "# Building pipelines \n",
    "\n",
    "Scikit learn pipelines allow us to perform many transformations at once and save time.   \n",
    "Each transformer output is sent as an input of the next transformer. "
   ]
  },
  {
   "cell_type": "code",
   "execution_count": 214,
   "metadata": {},
   "outputs": [],
   "source": [
    "from sklearn.base import BaseEstimator, TransformerMixin\n",
    "\n",
    "class DataFrameSelector(BaseEstimator, TransformerMixin):\n",
    "    def __init__(self, attribute_names):\n",
    "        self.attribute_names = attribute_names\n",
    "    def fit(self, X, y=None):\n",
    "        return self\n",
    "    def transform(self, X):\n",
    "        return X[self.attribute_names].values"
   ]
  },
  {
   "cell_type": "code",
   "execution_count": 215,
   "metadata": {},
   "outputs": [],
   "source": [
    "from sklearn.pipeline import Pipeline\n",
    "from sklearn.preprocessing import StandardScaler, OneHotEncoder\n",
    "\n",
    "from sklearn.pipeline import FeatureUnion\n",
    "num_attribs = ['Temp','is_day_off','is_weekend','conso_24_lag','conso_7_days_lag']\n",
    "cat_attribs = ['day_of_week']\n",
    "num_pipeline = Pipeline([\n",
    "        ('selector', DataFrameSelector(num_attribs)),\n",
    "        ('std_scaler', StandardScaler()),\n",
    "])\n",
    "cat_pipeline = Pipeline([\n",
    "    ('selector', DataFrameSelector(cat_attribs)),\n",
    "    ('one_hot_encoder', OneHotEncoder()),\n",
    "])\n",
    "full_pipeline = FeatureUnion(transformer_list=[\n",
    "    (\"num_pipeline\", num_pipeline),\n",
    "    (\"cat_pipeline\", cat_pipeline),\n",
    "])"
   ]
  },
  {
   "cell_type": "code",
   "execution_count": 216,
   "metadata": {},
   "outputs": [],
   "source": [
    "X_train_prepared = full_pipeline.fit_transform(X_train)"
   ]
  },
  {
   "cell_type": "markdown",
   "metadata": {},
   "source": [
    "# Training a LinearRegression model\n",
    "Let's first train a simple "
   ]
  },
  {
   "cell_type": "code",
   "execution_count": 217,
   "metadata": {},
   "outputs": [
    {
     "data": {
      "text/plain": [
       "LinearRegression(copy_X=True, fit_intercept=True, n_jobs=1, normalize=False)"
      ]
     },
     "execution_count": 217,
     "metadata": {},
     "output_type": "execute_result"
    }
   ],
   "source": [
    "from sklearn.linear_model import LinearRegression\n",
    "\n",
    "lin_reg = LinearRegression()\n",
    "lin_reg.fit(X_train_prepared, y_train)"
   ]
  },
  {
   "cell_type": "code",
   "execution_count": 218,
   "metadata": {},
   "outputs": [
    {
     "name": "stdout",
     "output_type": "stream",
     "text": [
      "Predictions: [ 8420.99607353 11087.16181159  8964.93225552  5470.3532471\n",
      "  7820.79112914]\n",
      "Labels: [8166.0, 11034.0, 8878.0, 5751.0, 8826.0]\n"
     ]
    }
   ],
   "source": [
    "# let's try the full pipeline on a few training instances\n",
    "some_data = X_train.iloc[:5]\n",
    "some_labels = y_train.iloc[:5]\n",
    "some_data_prepared = full_pipeline.transform(some_data)\n",
    "\n",
    "print(\"Predictions:\", lin_reg.predict(some_data_prepared))\n",
    "print(\"Labels:\", list(some_labels))"
   ]
  },
  {
   "cell_type": "code",
   "execution_count": 22,
   "metadata": {},
   "outputs": [],
   "source": [
    "def mean_absolute_percentage_error(y_true, y_pred): \n",
    "    return np.mean(np.abs((y_true - y_pred) / y_true)) * 100"
   ]
  },
  {
   "cell_type": "code",
   "execution_count": 23,
   "metadata": {},
   "outputs": [
    {
     "data": {
      "text/plain": [
       "4.473190162946718"
      ]
     },
     "execution_count": 23,
     "metadata": {},
     "output_type": "execute_result"
    }
   ],
   "source": [
    "consumption_predictions = lin_reg.predict(X_train_prepared)\n",
    "mean_absolute_percentage_error(y_train,consumption_predictions)"
   ]
  },
  {
   "cell_type": "markdown",
   "metadata": {},
   "source": [
    "# Training a decision tree model"
   ]
  },
  {
   "cell_type": "code",
   "execution_count": 24,
   "metadata": {},
   "outputs": [
    {
     "data": {
      "text/plain": [
       "DecisionTreeRegressor(criterion='mse', max_depth=None, max_features=None,\n",
       "           max_leaf_nodes=None, min_impurity_decrease=0.0,\n",
       "           min_impurity_split=None, min_samples_leaf=1,\n",
       "           min_samples_split=2, min_weight_fraction_leaf=0.0,\n",
       "           presort=False, random_state=None, splitter='best')"
      ]
     },
     "execution_count": 24,
     "metadata": {},
     "output_type": "execute_result"
    }
   ],
   "source": [
    "from sklearn.tree import DecisionTreeRegressor\n",
    "\n",
    "tree_reg = DecisionTreeRegressor()\n",
    "tree_reg.fit(X_train_prepared, y_train)"
   ]
  },
  {
   "cell_type": "code",
   "execution_count": 25,
   "metadata": {},
   "outputs": [
    {
     "data": {
      "text/plain": [
       "0.0"
      ]
     },
     "execution_count": 25,
     "metadata": {},
     "output_type": "execute_result"
    }
   ],
   "source": [
    "consumption_predictions = tree_reg.predict(X_train_prepared)\n",
    "mean_absolute_percentage_error(y_train,consumption_predictions)\n"
   ]
  },
  {
   "cell_type": "markdown",
   "metadata": {},
   "source": [
    "That's strange, we may be overfitting the data here\n",
    "\n",
    "Learning the parameters of a prediction function and testing it on the same data is a methodological mistake: a model that would just repeat the labels of the samples that it has just seen would have a perfect score but would fail to predict anything useful on yet-unseen data.\n",
    "\n",
    "## Better evaluation using cross validation\n",
    "\n",
    "The following code performs K-fold cross-validation:   \n",
    "It randomly splits the training set into 10 distinct subsets called folds, then it trains and evaluates the decision tree model 10 times,\n",
    "picking a different fold for evaluation every time and training on the other 9 folds.\n",
    "The result is an array containing the 10 evaluation scores:\n"
   ]
  },
  {
   "cell_type": "code",
   "execution_count": 28,
   "metadata": {},
   "outputs": [
    {
     "data": {
      "text/plain": [
       "array([-335.56816202, -339.65703639, -332.97401089, -331.97638234,\n",
       "       -337.90705384])"
      ]
     },
     "execution_count": 28,
     "metadata": {},
     "output_type": "execute_result"
    }
   ],
   "source": [
    "from sklearn.model_selection import cross_val_score\n",
    "\n",
    "cross_val_score(tree_reg, X_train_prepared, y_train,scoring=\"neg_mean_absolute_error\", cv=5)"
   ]
  },
  {
   "cell_type": "markdown",
   "metadata": {},
   "source": [
    "# Choosing an algorithm "
   ]
  },
  {
   "cell_type": "code",
   "execution_count": 197,
   "metadata": {},
   "outputs": [
    {
     "name": "stdout",
     "output_type": "stream",
     "text": [
      "DecisionTreeRegressor\n",
      "-395.6567399391409\n",
      "-398.10801485067515\n",
      "GradientBoostingRegressor\n",
      "-314.3833729890875\n",
      "-316.32810791981564\n",
      "RandomForestRegressor\n",
      "-307.06780647170893\n",
      "-307.9711999544285\n",
      "Ridge\n",
      "-359.1913027340213\n",
      "-359.19118658604657\n",
      "Lasso\n",
      "-359.2274068838613\n",
      "-359.15066571317607\n",
      "LinearRegression\n",
      "-359.1562511783345\n",
      "-359.1562511430313\n"
     ]
    }
   ],
   "source": [
    "from sklearn.model_selection import cross_val_score\n",
    "\n",
    "from sklearn.svm import SVR\n",
    "from sklearn.tree import DecisionTreeRegressor\n",
    "from sklearn.ensemble import GradientBoostingRegressor, RandomForestRegressor\n",
    "from sklearn.linear_model import ElasticNet, Lasso, LinearRegression, Ridge\n",
    "\n",
    "\n",
    "X_train_prepared = full_pipeline.fit_transform(X_train)\n",
    "\n",
    "for regressor in [DecisionTreeRegressor, GradientBoostingRegressor,RandomForestRegressor,Ridge, Lasso, LinearRegression]:\n",
    "    reg = regressor()\n",
    "    regressions[reg.__class__.__name__] = reg\n",
    "    print(reg.__class__.__name__)\n",
    "    print(cross_val_score(reg, X_train_prepared[:10000], y_train[:10000],scoring=\"neg_mean_absolute_error\", cv=3).mean()) \n"
   ]
  },
  {
   "cell_type": "code",
   "execution_count": 184,
   "metadata": {},
   "outputs": [
    {
     "data": {
      "text/plain": [
       "GridSearchCV(cv=None, error_score='raise',\n",
       "       estimator=RandomForestRegressor(bootstrap=True, criterion='mse', max_depth=None,\n",
       "           max_features='auto', max_leaf_nodes=None,\n",
       "           min_impurity_decrease=0.0, min_impurity_split=None,\n",
       "           min_samples_leaf=1, min_samples_split=2,\n",
       "           min_weight_fraction_leaf=0.0, n_estimators=10, n_jobs=1,\n",
       "           oob_score=False, random_state=None, verbose=0, warm_start=False),\n",
       "       fit_params=None, iid=True, n_jobs=1,\n",
       "       param_grid={'max_depth': (1, 10, 100), 'n_estimators': (10, 100, 1000)},\n",
       "       pre_dispatch='2*n_jobs', refit=True, return_train_score='warn',\n",
       "       scoring=None, verbose=0)"
      ]
     },
     "execution_count": 184,
     "metadata": {},
     "output_type": "execute_result"
    }
   ],
   "source": [
    "from sklearn import svm, datasets\n",
    "from sklearn.model_selection import GridSearchCV\n",
    "\n",
    "\n",
    "parameters = {'n_estimators':(10,100,1000), 'max_depth':(1,10,100)}\n",
    "\n",
    "random_forest = RandomForestRegressor()\n",
    "\n",
    "grid_search = GridSearchCV(random_forest, parameters)\n",
    "grid_search.fit(X_train_prepared[:2000], y_train[:2000])"
   ]
  },
  {
   "cell_type": "code",
   "execution_count": 187,
   "metadata": {},
   "outputs": [
    {
     "ename": "AttributeError",
     "evalue": "'RandomForestRegressor' object has no attribute 'mean_test_score'",
     "output_type": "error",
     "traceback": [
      "\u001b[0;31m---------------------------------------------------------------------------\u001b[0m",
      "\u001b[0;31mAttributeError\u001b[0m                            Traceback (most recent call last)",
      "\u001b[0;32m<ipython-input-187-ab0cb60af78a>\u001b[0m in \u001b[0;36m<module>\u001b[0;34m()\u001b[0m\n\u001b[0;32m----> 1\u001b[0;31m \u001b[0mgrid_search\u001b[0m\u001b[0;34m.\u001b[0m\u001b[0mbest_estimator_\u001b[0m\u001b[0;34m.\u001b[0m\u001b[0mmean_test_score\u001b[0m\u001b[0;34m\u001b[0m\u001b[0m\n\u001b[0m",
      "\u001b[0;31mAttributeError\u001b[0m: 'RandomForestRegressor' object has no attribute 'mean_test_score'"
     ]
    }
   ],
   "source": [
    "grid_search.best_estimator_"
   ]
  },
  {
   "cell_type": "markdown",
   "metadata": {},
   "source": [
    "# Making a prediction for tomorrow"
   ]
  },
  {
   "cell_type": "code",
   "execution_count": 219,
   "metadata": {},
   "outputs": [
    {
     "data": {
      "text/plain": [
       "GradientBoostingRegressor(alpha=0.9, criterion='friedman_mse', init=None,\n",
       "             learning_rate=0.1, loss='ls', max_depth=3, max_features=None,\n",
       "             max_leaf_nodes=None, min_impurity_decrease=0.0,\n",
       "             min_impurity_split=None, min_samples_leaf=1,\n",
       "             min_samples_split=2, min_weight_fraction_leaf=0.0,\n",
       "             n_estimators=100, presort='auto', random_state=None,\n",
       "             subsample=1.0, verbose=0, warm_start=False)"
      ]
     },
     "execution_count": 219,
     "metadata": {},
     "output_type": "execute_result"
    }
   ],
   "source": [
    "X = df.drop([\"Conso\"], axis=1)\n",
    "y = df[\"Conso\"].copy()\n",
    "\n",
    "X_prepared = full_pipeline.fit_transform(X)\n",
    "gbr = GradientBoostingRegressor()\n",
    "gbr.fit(X_prepared,y)"
   ]
  },
  {
   "cell_type": "code",
   "execution_count": null,
   "metadata": {},
   "outputs": [],
   "source": [
    "X_prepared = full_pipeline.fit_transform(X)\n",
    "rf = RandomForestRegressor(max_depth=100)\n",
    "rf.fit(X_prepared,y)"
   ]
  },
  {
   "cell_type": "code",
   "execution_count": 220,
   "metadata": {},
   "outputs": [
    {
     "data": {
      "text/html": [
       "<div>\n",
       "<style scoped>\n",
       "    .dataframe tbody tr th:only-of-type {\n",
       "        vertical-align: middle;\n",
       "    }\n",
       "\n",
       "    .dataframe tbody tr th {\n",
       "        vertical-align: top;\n",
       "    }\n",
       "\n",
       "    .dataframe thead th {\n",
       "        text-align: right;\n",
       "    }\n",
       "</style>\n",
       "<table border=\"1\" class=\"dataframe\">\n",
       "  <thead>\n",
       "    <tr style=\"text-align: right;\">\n",
       "      <th></th>\n",
       "      <th>Temp</th>\n",
       "      <th>is_day_off</th>\n",
       "      <th>conso_24_lag</th>\n",
       "      <th>conso_7_days_lag</th>\n",
       "      <th>is_weekend</th>\n",
       "      <th>day_of_week</th>\n",
       "    </tr>\n",
       "    <tr>\n",
       "      <th>Date</th>\n",
       "      <th></th>\n",
       "      <th></th>\n",
       "      <th></th>\n",
       "      <th></th>\n",
       "      <th></th>\n",
       "      <th></th>\n",
       "    </tr>\n",
       "  </thead>\n",
       "  <tbody>\n",
       "    <tr>\n",
       "      <th>2015-03-27 02:00:00</th>\n",
       "      <td>276.541667</td>\n",
       "      <td>0</td>\n",
       "      <td>8478.0</td>\n",
       "      <td>7696.0</td>\n",
       "      <td>0</td>\n",
       "      <td>4</td>\n",
       "    </tr>\n",
       "  </tbody>\n",
       "</table>\n",
       "</div>"
      ],
      "text/plain": [
       "                           Temp  is_day_off  conso_24_lag  conso_7_days_lag  \\\n",
       "Date                                                                          \n",
       "2015-03-27 02:00:00  276.541667           0        8478.0            7696.0   \n",
       "\n",
       "                     is_weekend  day_of_week  \n",
       "Date                                          \n",
       "2015-03-27 02:00:00           0            4  "
      ]
     },
     "execution_count": 220,
     "metadata": {},
     "output_type": "execute_result"
    }
   ],
   "source": [
    "X_train.head(1)"
   ]
  },
  {
   "cell_type": "code",
   "execution_count": 221,
   "metadata": {},
   "outputs": [],
   "source": [
    "import os\n",
    "import requests \n",
    "import pandas as pd\n",
    "\n",
    "token = os.environ[\"OPENWEATHER\"]\n",
    "weather = requests.get(\"http://api.openweathermap.org/data/2.5/forecast?id=2988507&mode=json&APPID={}\".format(token)).json()"
   ]
  },
  {
   "cell_type": "code",
   "execution_count": 222,
   "metadata": {},
   "outputs": [
    {
     "name": "stdout",
     "output_type": "stream",
     "text": [
      "284.53\n"
     ]
    }
   ],
   "source": [
    "for x in weather[\"list\"]:\n",
    "    if x[\"dt_txt\"] == '2018-03-09 15:00:00':\n",
    "        print(x[\"main\"][\"temp\"])"
   ]
  },
  {
   "cell_type": "code",
   "execution_count": 66,
   "metadata": {},
   "outputs": [],
   "source": [
    "conso1 = requests.get(\"https://rte-opendata.opendatasoft.com/api/records/1.0/search/?dataset=eco2mix_regional_tr&rows=1002&sort=-date_heure&facet=libelle_region&facet=nature&facet=date_heure&refine.libelle_region=Ile-de-France&refine.date_heure=2018%2F03%2F07\").json()"
   ]
  },
  {
   "cell_type": "code",
   "execution_count": 73,
   "metadata": {},
   "outputs": [
    {
     "name": "stdout",
     "output_type": "stream",
     "text": [
      "10899\n"
     ]
    }
   ],
   "source": [
    "for record in conso1[\"records\"]:\n",
    "    if record[\"fields\"][\"heure\"] == '15:00':\n",
    "        print(record[\"fields\"][\"consommation\"])"
   ]
  },
  {
   "cell_type": "code",
   "execution_count": 74,
   "metadata": {},
   "outputs": [],
   "source": [
    "conso7 = requests.get(\"https://rte-opendata.opendatasoft.com/api/records/1.0/search/?dataset=eco2mix_regional_tr&rows=1002&sort=-date_heure&facet=libelle_region&facet=nature&facet=date_heure&refine.libelle_region=Ile-de-France&refine.date_heure=2018%2F03%2F01\").json()"
   ]
  },
  {
   "cell_type": "code",
   "execution_count": 75,
   "metadata": {},
   "outputs": [
    {
     "name": "stdout",
     "output_type": "stream",
     "text": [
      "13967\n"
     ]
    }
   ],
   "source": [
    "for record in conso7[\"records\"]:\n",
    "    if record[\"fields\"][\"heure\"] == '15:00':\n",
    "        print(record[\"fields\"][\"consommation\"])"
   ]
  },
  {
   "cell_type": "code",
   "execution_count": 189,
   "metadata": {},
   "outputs": [],
   "source": [
    "X = pd.DataFrame([{\"Temp\":281.530,\"is_day_off\":0,\"conso_24_lag\":10899,\"conso_7_days_lag\":13967,\"is_weekend\":0,\"day_of_week\":3},], index=[0])"
   ]
  },
  {
   "cell_type": "code",
   "execution_count": 190,
   "metadata": {},
   "outputs": [],
   "source": [
    "X_t = full_pipeline.transform(X)"
   ]
  },
  {
   "cell_type": "code",
   "execution_count": 191,
   "metadata": {},
   "outputs": [
    {
     "data": {
      "text/plain": [
       "array([10842.3])"
      ]
     },
     "execution_count": 191,
     "metadata": {},
     "output_type": "execute_result"
    }
   ],
   "source": [
    "rdm.predict(X_t)"
   ]
  },
  {
   "cell_type": "code",
   "execution_count": 193,
   "metadata": {},
   "outputs": [
    {
     "data": {
      "text/plain": [
       "array([10899.04215259])"
      ]
     },
     "execution_count": 193,
     "metadata": {},
     "output_type": "execute_result"
    }
   ],
   "source": [
    "gbr.predict(X_t)"
   ]
  },
  {
   "cell_type": "code",
   "execution_count": null,
   "metadata": {},
   "outputs": [],
   "source": []
  }
 ],
 "metadata": {
  "kernelspec": {
   "display_name": "Python 3",
   "language": "python",
   "name": "python3"
  },
  "language_info": {
   "codemirror_mode": {
    "name": "ipython",
    "version": 3
   },
   "file_extension": ".py",
   "mimetype": "text/x-python",
   "name": "python",
   "nbconvert_exporter": "python",
   "pygments_lexer": "ipython3",
   "version": "3.5.1"
  }
 },
 "nbformat": 4,
 "nbformat_minor": 2
}
