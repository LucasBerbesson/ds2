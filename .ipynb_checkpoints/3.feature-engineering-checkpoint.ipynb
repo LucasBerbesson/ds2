{
 "cells": [
  {
   "cell_type": "markdown",
   "metadata": {
    "slideshow": {
     "slide_type": "slide"
    }
   },
   "source": [
    "# Feature Engineering\n",
    "\n",
    "> Feature engineering is the process of using domain knowledge of the data to create features that make machine learning algorithms work. (wikipedia)\n",
    "\n",
    "\n",
    "## Workshop : find some new features (15min)\n",
    "Only use available data: \n",
    "- Consumption for each day\n",
    "- Temperature for each day\n",
    "- is_day_off function\n"
   ]
  },
  {
   "cell_type": "code",
   "execution_count": 1,
   "metadata": {
    "slideshow": {
     "slide_type": "slide"
    }
   },
   "outputs": [],
   "source": [
    "from modules.utils import get_data, days_off\n",
    "import seaborn as sns\n",
    "import matplotlib.pyplot as plt\n",
    "%matplotlib inline\n",
    "\n",
    "df = get_data()"
   ]
  },
  {
   "cell_type": "code",
   "execution_count": 2,
   "metadata": {},
   "outputs": [
    {
     "data": {
      "text/html": [
       "<div>\n",
       "<style scoped>\n",
       "    .dataframe tbody tr th:only-of-type {\n",
       "        vertical-align: middle;\n",
       "    }\n",
       "\n",
       "    .dataframe tbody tr th {\n",
       "        vertical-align: top;\n",
       "    }\n",
       "\n",
       "    .dataframe thead th {\n",
       "        text-align: right;\n",
       "    }\n",
       "</style>\n",
       "<table border=\"1\" class=\"dataframe\">\n",
       "  <thead>\n",
       "    <tr style=\"text-align: right;\">\n",
       "      <th></th>\n",
       "      <th>Date</th>\n",
       "      <th>Conso</th>\n",
       "      <th>Temp</th>\n",
       "    </tr>\n",
       "  </thead>\n",
       "  <tbody>\n",
       "    <tr>\n",
       "      <th>1</th>\n",
       "      <td>2013-01-01 00:30:00</td>\n",
       "      <td>9134.0</td>\n",
       "      <td>5.76</td>\n",
       "    </tr>\n",
       "    <tr>\n",
       "      <th>2</th>\n",
       "      <td>2013-01-01 01:00:00</td>\n",
       "      <td>8822.0</td>\n",
       "      <td>5.76</td>\n",
       "    </tr>\n",
       "    <tr>\n",
       "      <th>3</th>\n",
       "      <td>2013-01-01 01:30:00</td>\n",
       "      <td>8499.0</td>\n",
       "      <td>5.76</td>\n",
       "    </tr>\n",
       "    <tr>\n",
       "      <th>4</th>\n",
       "      <td>2013-01-01 02:00:00</td>\n",
       "      <td>8229.0</td>\n",
       "      <td>5.76</td>\n",
       "    </tr>\n",
       "    <tr>\n",
       "      <th>5</th>\n",
       "      <td>2013-01-01 02:30:00</td>\n",
       "      <td>8150.0</td>\n",
       "      <td>5.76</td>\n",
       "    </tr>\n",
       "  </tbody>\n",
       "</table>\n",
       "</div>"
      ],
      "text/plain": [
       "                 Date   Conso  Temp\n",
       "1 2013-01-01 00:30:00  9134.0  5.76\n",
       "2 2013-01-01 01:00:00  8822.0  5.76\n",
       "3 2013-01-01 01:30:00  8499.0  5.76\n",
       "4 2013-01-01 02:00:00  8229.0  5.76\n",
       "5 2013-01-01 02:30:00  8150.0  5.76"
      ]
     },
     "execution_count": 2,
     "metadata": {},
     "output_type": "execute_result"
    }
   ],
   "source": [
    "df.head()"
   ]
  },
  {
   "cell_type": "code",
   "execution_count": 3,
   "metadata": {},
   "outputs": [
    {
     "data": {
      "text/plain": [
       "['2013-01-01', '2013-01-06', '2013-02-12']"
      ]
     },
     "execution_count": 3,
     "metadata": {},
     "output_type": "execute_result"
    }
   ],
   "source": [
    "days_off[:3]"
   ]
  },
  {
   "cell_type": "markdown",
   "metadata": {},
   "source": [
    "# Day, week, month, year"
   ]
  },
  {
   "cell_type": "code",
   "execution_count": null,
   "metadata": {},
   "outputs": [],
   "source": []
  },
  {
   "cell_type": "code",
   "execution_count": null,
   "metadata": {},
   "outputs": [],
   "source": []
  },
  {
   "cell_type": "markdown",
   "metadata": {
    "slideshow": {
     "slide_type": "fragment"
    }
   },
   "source": [
    "# Lags\n"
   ]
  },
  {
   "cell_type": "code",
   "execution_count": null,
   "metadata": {},
   "outputs": [],
   "source": []
  },
  {
   "cell_type": "code",
   "execution_count": null,
   "metadata": {},
   "outputs": [],
   "source": []
  },
  {
   "cell_type": "markdown",
   "metadata": {},
   "source": [
    "# Days off"
   ]
  },
  {
   "cell_type": "code",
   "execution_count": null,
   "metadata": {},
   "outputs": [],
   "source": []
  },
  {
   "cell_type": "code",
   "execution_count": null,
   "metadata": {},
   "outputs": [],
   "source": []
  },
  {
   "cell_type": "markdown",
   "metadata": {},
   "source": [
    "# Heating and cooling degrees"
   ]
  },
  {
   "cell_type": "code",
   "execution_count": null,
   "metadata": {},
   "outputs": [],
   "source": []
  },
  {
   "cell_type": "code",
   "execution_count": null,
   "metadata": {},
   "outputs": [],
   "source": []
  },
  {
   "cell_type": "markdown",
   "metadata": {},
   "source": [
    "# is_weekend"
   ]
  },
  {
   "cell_type": "code",
   "execution_count": null,
   "metadata": {},
   "outputs": [],
   "source": []
  },
  {
   "cell_type": "code",
   "execution_count": null,
   "metadata": {},
   "outputs": [],
   "source": []
  },
  {
   "cell_type": "markdown",
   "metadata": {},
   "source": [
    "# temp_rolling_7_days"
   ]
  },
  {
   "cell_type": "code",
   "execution_count": null,
   "metadata": {},
   "outputs": [],
   "source": []
  },
  {
   "cell_type": "code",
   "execution_count": null,
   "metadata": {},
   "outputs": [],
   "source": []
  },
  {
   "cell_type": "markdown",
   "metadata": {},
   "source": [
    "# Automate everyting"
   ]
  },
  {
   "cell_type": "code",
   "execution_count": 1,
   "metadata": {},
   "outputs": [],
   "source": [
    "from modules.utils import get_data_with_features\n",
    "\n",
    "df = get_data_with_features()"
   ]
  },
  {
   "cell_type": "code",
   "execution_count": 2,
   "metadata": {},
   "outputs": [
    {
     "data": {
      "text/html": [
       "<div>\n",
       "<style scoped>\n",
       "    .dataframe tbody tr th:only-of-type {\n",
       "        vertical-align: middle;\n",
       "    }\n",
       "\n",
       "    .dataframe tbody tr th {\n",
       "        vertical-align: top;\n",
       "    }\n",
       "\n",
       "    .dataframe thead th {\n",
       "        text-align: right;\n",
       "    }\n",
       "</style>\n",
       "<table border=\"1\" class=\"dataframe\">\n",
       "  <thead>\n",
       "    <tr style=\"text-align: right;\">\n",
       "      <th></th>\n",
       "      <th>Conso</th>\n",
       "      <th>Temp</th>\n",
       "      <th>is_day_off</th>\n",
       "      <th>conso_24_lag</th>\n",
       "      <th>temp_24_lag</th>\n",
       "      <th>conso_7_days_lag</th>\n",
       "      <th>heating_degrees</th>\n",
       "      <th>cooling_degrees</th>\n",
       "      <th>is_weekend</th>\n",
       "      <th>day_of_week</th>\n",
       "      <th>temp_rolling_7_days</th>\n",
       "      <th>month</th>\n",
       "    </tr>\n",
       "  </thead>\n",
       "  <tbody>\n",
       "    <tr>\n",
       "      <th>count</th>\n",
       "      <td>90395.000000</td>\n",
       "      <td>90395.000000</td>\n",
       "      <td>90395.0</td>\n",
       "      <td>90395.000000</td>\n",
       "      <td>90395.000000</td>\n",
       "      <td>90395.000000</td>\n",
       "      <td>90395.000000</td>\n",
       "      <td>90395.000000</td>\n",
       "      <td>90395.000000</td>\n",
       "      <td>90395.000000</td>\n",
       "      <td>90395.000000</td>\n",
       "      <td>90395.000000</td>\n",
       "    </tr>\n",
       "    <tr>\n",
       "      <th>mean</th>\n",
       "      <td>8331.616373</td>\n",
       "      <td>11.650060</td>\n",
       "      <td>0.0</td>\n",
       "      <td>8331.596206</td>\n",
       "      <td>11.649667</td>\n",
       "      <td>8322.948349</td>\n",
       "      <td>7.145882</td>\n",
       "      <td>0.151114</td>\n",
       "      <td>0.285735</td>\n",
       "      <td>3.000033</td>\n",
       "      <td>11.656541</td>\n",
       "      <td>6.376525</td>\n",
       "    </tr>\n",
       "    <tr>\n",
       "      <th>std</th>\n",
       "      <td>2198.284719</td>\n",
       "      <td>7.136637</td>\n",
       "      <td>0.0</td>\n",
       "      <td>2198.391600</td>\n",
       "      <td>7.136592</td>\n",
       "      <td>2187.503271</td>\n",
       "      <td>5.880116</td>\n",
       "      <td>0.877992</td>\n",
       "      <td>0.451766</td>\n",
       "      <td>2.000080</td>\n",
       "      <td>6.195277</td>\n",
       "      <td>3.498116</td>\n",
       "    </tr>\n",
       "    <tr>\n",
       "      <th>min</th>\n",
       "      <td>3982.000000</td>\n",
       "      <td>-10.542000</td>\n",
       "      <td>0.0</td>\n",
       "      <td>3982.000000</td>\n",
       "      <td>-10.542000</td>\n",
       "      <td>3982.000000</td>\n",
       "      <td>0.000000</td>\n",
       "      <td>0.000000</td>\n",
       "      <td>0.000000</td>\n",
       "      <td>0.000000</td>\n",
       "      <td>-3.032690</td>\n",
       "      <td>1.000000</td>\n",
       "    </tr>\n",
       "    <tr>\n",
       "      <th>25%</th>\n",
       "      <td>6701.000000</td>\n",
       "      <td>6.408679</td>\n",
       "      <td>0.0</td>\n",
       "      <td>6701.000000</td>\n",
       "      <td>6.410000</td>\n",
       "      <td>6701.000000</td>\n",
       "      <td>1.465000</td>\n",
       "      <td>0.000000</td>\n",
       "      <td>0.000000</td>\n",
       "      <td>1.000000</td>\n",
       "      <td>6.792003</td>\n",
       "      <td>3.000000</td>\n",
       "    </tr>\n",
       "    <tr>\n",
       "      <th>50%</th>\n",
       "      <td>8047.000000</td>\n",
       "      <td>11.335000</td>\n",
       "      <td>0.0</td>\n",
       "      <td>8047.000000</td>\n",
       "      <td>11.331000</td>\n",
       "      <td>8044.000000</td>\n",
       "      <td>6.665000</td>\n",
       "      <td>0.000000</td>\n",
       "      <td>0.000000</td>\n",
       "      <td>3.000000</td>\n",
       "      <td>11.348635</td>\n",
       "      <td>6.000000</td>\n",
       "    </tr>\n",
       "    <tr>\n",
       "      <th>75%</th>\n",
       "      <td>9866.000000</td>\n",
       "      <td>16.535000</td>\n",
       "      <td>0.0</td>\n",
       "      <td>9866.000000</td>\n",
       "      <td>16.535000</td>\n",
       "      <td>9852.000000</td>\n",
       "      <td>11.591321</td>\n",
       "      <td>0.000000</td>\n",
       "      <td>1.000000</td>\n",
       "      <td>5.000000</td>\n",
       "      <td>16.865900</td>\n",
       "      <td>9.000000</td>\n",
       "    </tr>\n",
       "    <tr>\n",
       "      <th>max</th>\n",
       "      <td>15338.000000</td>\n",
       "      <td>38.060000</td>\n",
       "      <td>0.0</td>\n",
       "      <td>15338.000000</td>\n",
       "      <td>38.060000</td>\n",
       "      <td>15286.000000</td>\n",
       "      <td>28.542000</td>\n",
       "      <td>14.060000</td>\n",
       "      <td>1.000000</td>\n",
       "      <td>6.000000</td>\n",
       "      <td>25.751423</td>\n",
       "      <td>12.000000</td>\n",
       "    </tr>\n",
       "  </tbody>\n",
       "</table>\n",
       "</div>"
      ],
      "text/plain": [
       "              Conso          Temp  is_day_off  conso_24_lag   temp_24_lag  \\\n",
       "count  90395.000000  90395.000000     90395.0  90395.000000  90395.000000   \n",
       "mean    8331.616373     11.650060         0.0   8331.596206     11.649667   \n",
       "std     2198.284719      7.136637         0.0   2198.391600      7.136592   \n",
       "min     3982.000000    -10.542000         0.0   3982.000000    -10.542000   \n",
       "25%     6701.000000      6.408679         0.0   6701.000000      6.410000   \n",
       "50%     8047.000000     11.335000         0.0   8047.000000     11.331000   \n",
       "75%     9866.000000     16.535000         0.0   9866.000000     16.535000   \n",
       "max    15338.000000     38.060000         0.0  15338.000000     38.060000   \n",
       "\n",
       "       conso_7_days_lag  heating_degrees  cooling_degrees    is_weekend  \\\n",
       "count      90395.000000     90395.000000     90395.000000  90395.000000   \n",
       "mean        8322.948349         7.145882         0.151114      0.285735   \n",
       "std         2187.503271         5.880116         0.877992      0.451766   \n",
       "min         3982.000000         0.000000         0.000000      0.000000   \n",
       "25%         6701.000000         1.465000         0.000000      0.000000   \n",
       "50%         8044.000000         6.665000         0.000000      0.000000   \n",
       "75%         9852.000000        11.591321         0.000000      1.000000   \n",
       "max        15286.000000        28.542000        14.060000      1.000000   \n",
       "\n",
       "        day_of_week  temp_rolling_7_days         month  \n",
       "count  90395.000000         90395.000000  90395.000000  \n",
       "mean       3.000033            11.656541      6.376525  \n",
       "std        2.000080             6.195277      3.498116  \n",
       "min        0.000000            -3.032690      1.000000  \n",
       "25%        1.000000             6.792003      3.000000  \n",
       "50%        3.000000            11.348635      6.000000  \n",
       "75%        5.000000            16.865900      9.000000  \n",
       "max        6.000000            25.751423     12.000000  "
      ]
     },
     "execution_count": 2,
     "metadata": {},
     "output_type": "execute_result"
    }
   ],
   "source": [
    "df.describe()"
   ]
  },
  {
   "cell_type": "markdown",
   "metadata": {},
   "source": [
    "![xkcd](https://imgs.xkcd.com/comics/machine_learning.png)"
   ]
  },
  {
   "cell_type": "code",
   "execution_count": null,
   "metadata": {},
   "outputs": [],
   "source": []
  }
 ],
 "metadata": {
  "celltoolbar": "Slideshow",
  "kernelspec": {
   "display_name": "Python 2",
   "language": "python",
   "name": "python2"
  },
  "language_info": {
   "codemirror_mode": {
    "name": "ipython",
    "version": 3
   },
   "file_extension": ".py",
   "mimetype": "text/x-python",
   "name": "python",
   "nbconvert_exporter": "python",
   "pygments_lexer": "ipython3",
   "version": "3.6.5"
  }
 },
 "nbformat": 4,
 "nbformat_minor": 2
}
