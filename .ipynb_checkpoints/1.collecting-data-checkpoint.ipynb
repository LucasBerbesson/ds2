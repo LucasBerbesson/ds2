{
 "cells": [
  {
   "cell_type": "markdown",
   "metadata": {
    "slideshow": {
     "slide_type": "slide"
    }
   },
   "source": [
    "# Data collection\n",
    "\n",
    "The goal of this presentation is to automate data collection.\n",
    "We need some historical data to build our model and predict electrical consumption in Paris for J+1.   \n",
    "Basically we need to collect as much interesting data as possible, starting from nothing."
   ]
  },
  {
   "cell_type": "markdown",
   "metadata": {
    "slideshow": {
     "slide_type": "fragment"
    }
   },
   "source": [
    "### Expected output\n",
    "\n",
    "Datasets saved on our computer with file formats easily readable by python : csv, json, xml, excel"
   ]
  },
  {
   "cell_type": "markdown",
   "metadata": {},
   "source": [
    "### Quizz (5 minutes) : What kind of data might be interesting to make a prediction ?"
   ]
  },
  {
   "cell_type": "markdown",
   "metadata": {},
   "source": [
    "### Workshop (15 minutes) : Try to collect the data\n",
    "\n",
    "- Historical data\n",
    "- Historical weather\n",
    "- Population in Paris\n",
    "- Trafic \n",
    "- Days off \n",
    "- Bridge\n",
    "- Special events \n",
    "- Holidays\n",
    "\n",
    "# https://opendata.reseaux-energies.fr/"
   ]
  },
  {
   "cell_type": "markdown",
   "metadata": {},
   "source": [
    "\n",
    "### Easy : Historical electrical consumption\n",
    "\n",
    "[Electrical consumption in île-de-France between 2013 and 2017](https://rte-opendata.opendatasoft.com/explore/dataset/eco2mix_regional_cons_def/export/?disjunctive.libelle_region&disjunctive.nature&sort=-date_heure&refine.libelle_region=Ile-de-France)"
   ]
  },
  {
   "cell_type": "code",
   "execution_count": null,
   "metadata": {},
   "outputs": [],
   "source": [
    "import pandas as pd"
   ]
  },
  {
   "cell_type": "code",
   "execution_count": null,
   "metadata": {},
   "outputs": [],
   "source": [
    "consumption = pd.read_csv(\"??\")"
   ]
  },
  {
   "cell_type": "code",
   "execution_count": null,
   "metadata": {},
   "outputs": [],
   "source": [
    "consumption.head()"
   ]
  },
  {
   "cell_type": "markdown",
   "metadata": {},
   "source": [
    "### Less easy : Historical weather\n",
    "\n",
    "Not enough data : [Prévision Météo - Paris - AROME](https://public.opendatasoft.com/explore/dataset/arome-0025-sp1_sp2_paris/export/)  \n",
    "Let's pay for some data ! [Openweather map API](https://openweathermap.org/history-bulk) (10$ for 5 years of weather in paris : a bargain !)\n"
   ]
  },
  {
   "cell_type": "code",
   "execution_count": null,
   "metadata": {},
   "outputs": [],
   "source": [
    "weather = pd.read_csv(\"??\")"
   ]
  },
  {
   "cell_type": "code",
   "execution_count": null,
   "metadata": {},
   "outputs": [],
   "source": [
    "weather.head()"
   ]
  },
  {
   "cell_type": "markdown",
   "metadata": {},
   "source": [
    "# Days off in France\n",
    "\n",
    "No dataset easily available, we are going to scrap the web :\n",
    "https://www.calendrier-365.fr"
   ]
  },
  {
   "cell_type": "code",
   "execution_count": null,
   "metadata": {},
   "outputs": [],
   "source": [
    "import requests\n",
    "from bs4 import BeautifulSoup\n",
    "from datetime import datetime, timedelta"
   ]
  },
  {
   "cell_type": "code",
   "execution_count": null,
   "metadata": {},
   "outputs": [],
   "source": [
    "# scrap https://www.calendrier-365.fr"
   ]
  },
  {
   "cell_type": "code",
   "execution_count": null,
   "metadata": {},
   "outputs": [],
   "source": []
  },
  {
   "cell_type": "code",
   "execution_count": null,
   "metadata": {},
   "outputs": [],
   "source": [
    "def is_day_off(date):\n",
    "    \"\"\"\n",
    "    Function to tell if a day is off in France\n",
    "    Only works from 2013 to 2020.\n",
    "    \"\"\"\n",
    "    if date.strftime(\"%Y-%m-%d\") in days_off:\n",
    "        return True\n",
    "    return False\n",
    "\n",
    "today = datetime.today() \n",
    "\n",
    "next_saturday = today + timedelta(days=2)\n",
    "christmas = datetime(2018,12,25)\n",
    "easter = datetime(2015,4,5)\n",
    "\n",
    "print(is_day_off(next_saturday))\n",
    "print(is_day_off(today))\n",
    "print(is_day_off(christmas))\n",
    "print(is_day_off(easter))"
   ]
  },
  {
   "cell_type": "code",
   "execution_count": null,
   "metadata": {},
   "outputs": [],
   "source": []
  }
 ],
 "metadata": {
  "kernelspec": {
   "display_name": "Python 2",
   "language": "python",
   "name": "python2"
  },
  "language_info": {
   "codemirror_mode": {
    "name": "ipython",
    "version": 3
   },
   "file_extension": ".py",
   "mimetype": "text/x-python",
   "name": "python",
   "nbconvert_exporter": "python",
   "pygments_lexer": "ipython3",
   "version": "3.6.5"
  }
 },
 "nbformat": 4,
 "nbformat_minor": 2
}
