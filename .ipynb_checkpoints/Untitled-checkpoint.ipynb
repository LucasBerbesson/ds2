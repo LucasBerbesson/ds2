{
 "cells": [
  {
   "cell_type": "code",
   "execution_count": 6,
   "metadata": {},
   "outputs": [],
   "source": [
    "import requests"
   ]
  },
  {
   "cell_type": "code",
   "execution_count": 7,
   "metadata": {},
   "outputs": [],
   "source": [
    "from bs4 import BeautifulSoup"
   ]
  },
  {
   "cell_type": "code",
   "execution_count": 8,
   "metadata": {},
   "outputs": [],
   "source": [
    "articles = []\n",
    "for i in range(10):\n",
    "    page = requests.get(\"http://francois-aux-usa.over-blog.com/page/\"+str(i))\n",
    "    soup = BeautifulSoup(page.text,\"lxml\")\n",
    "    for title in soup.find_all(\"h2\",{\"class\":\"post-title\"}):\n",
    "        articles.append(title.find(\"a\").attrs[\"href\"])\n",
    "    "
   ]
  },
  {
   "cell_type": "code",
   "execution_count": 9,
   "metadata": {},
   "outputs": [
    {
     "name": "stdout",
     "output_type": "stream",
     "text": [
      "http://francois-aux-usa.over-blog.com/article-34848359.html\n"
     ]
    }
   ],
   "source": [
    "all_articles = \"\"\n",
    "for index, article in enumerate(reversed(articles)):\n",
    "    new_article = \"\"\n",
    "    page = requests.get(article)\n",
    "    soup = BeautifulSoup(page.text,\"lxml\")\n",
    "    header = soup.find(\"header\",{\"class\":\"header\"})\n",
    "    body = soup.find(\"div\",{\"class\":\"body\"})\n",
    "    all_articles += str(header)\n",
    "    try:\n",
    "        all_articles += str(body)\n",
    "    except:\n",
    "        print(article)\n",
    "        \n",
    "        \n",
    "with open(\"francois_aux_usa.html\".format(index), \"w+\") as text_file:\n",
    "    text_file.write(all_articles)"
   ]
  }
 ],
 "metadata": {
  "kernelspec": {
   "display_name": "Python 2",
   "language": "python",
   "name": "python2"
  },
  "language_info": {
   "codemirror_mode": {
    "name": "ipython",
    "version": 3
   },
   "file_extension": ".py",
   "mimetype": "text/x-python",
   "name": "python",
   "nbconvert_exporter": "python",
   "pygments_lexer": "ipython3",
   "version": "3.6.5"
  }
 },
 "nbformat": 4,
 "nbformat_minor": 2
}
