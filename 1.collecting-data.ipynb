{
 "cells": [
  {
   "cell_type": "markdown",
   "metadata": {
    "slideshow": {
     "slide_type": "slide"
    }
   },
   "source": [
    "# Data collection\n",
    "\n",
    "The goal of this presentation is to automate data collection.\n",
    "We need some historical data to build our model and predict electrical consumption in Paris for J+1.   \n",
    "Basically we need to collect as much interesting data as possible, starting from nothing."
   ]
  },
  {
   "cell_type": "markdown",
   "metadata": {
    "slideshow": {
     "slide_type": "fragment"
    }
   },
   "source": [
    "### Expected output\n",
    "\n",
    "Datasets saved on our computer with file formats easily readable by python : csv, json, xml, excel"
   ]
  },
  {
   "cell_type": "markdown",
   "metadata": {},
   "source": [
    "### Quizz (5 minutes) : What kind of data might be interesting to make a prediction ?"
   ]
  },
  {
   "cell_type": "markdown",
   "metadata": {},
   "source": [
    "### Suggestions : \n",
    "\n",
    "\n",
    "The data we are going to collect : \n",
    "\n",
    "- Historical electrical consumption of Paris ( > 2 years of data)\n",
    "- Historical weather ( > 2 years of data)\n",
    "- weather forecast (temperature, wind, solar radiation ...)\n",
    "- Days off in France\n",
    "- ~~How many electric vehicules~~\n",
    "\n",
    "## https://github.com/LucasBerbesson/ds2\n"
   ]
  },
  {
   "cell_type": "markdown",
   "metadata": {},
   "source": [
    "### Workshop (15 minutes) : Try to collect the data"
   ]
  },
  {
   "cell_type": "markdown",
   "metadata": {},
   "source": [
    "\n",
    "### Easy : Historical electrical consumption\n",
    "\n",
    "[Electrical consumption in île-de-France between 2013 and 2017](https://rte-opendata.opendatasoft.com/explore/dataset/eco2mix_regional_cons_def/export/?disjunctive.libelle_region&disjunctive.nature&sort=-date_heure&refine.libelle_region=Ile-de-France)"
   ]
  },
  {
   "cell_type": "code",
   "execution_count": null,
   "metadata": {},
   "outputs": [],
   "source": [
    "import pandas as pd\n",
    "import matplotlib.pyplot as plt\n",
    "import seaborn as sns\n",
    "%matplotlib inline"
   ]
  },
  {
   "cell_type": "code",
   "execution_count": null,
   "metadata": {},
   "outputs": [],
   "source": [
    "consumption = pd.read_csv(\"./data/eco2mix_regional_cons_def.csv\", delimiter=\";\",parse_dates=[\"Date - Heure\"])\n",
    "consumption.set_index('Date - Heure',inplace=True)"
   ]
  },
  {
   "cell_type": "code",
   "execution_count": null,
   "metadata": {},
   "outputs": [],
   "source": [
    "consumption.sort_index(inplace=True)\n",
    "consumption.head(3)"
   ]
  },
  {
   "cell_type": "code",
   "execution_count": null,
   "metadata": {},
   "outputs": [],
   "source": [
    "consumption.resample('D').count()"
   ]
  },
  {
   "cell_type": "code",
   "execution_count": null,
   "metadata": {},
   "outputs": [],
   "source": [
    "consumption[\"Code INSEE région\"].value_counts()"
   ]
  },
  {
   "cell_type": "code",
   "execution_count": null,
   "metadata": {},
   "outputs": [],
   "source": [
    "# 31 march 2013 appears twice, strange\n",
    "consumption.describe()"
   ]
  },
  {
   "cell_type": "markdown",
   "metadata": {},
   "source": [
    "## Less easy : Historical weather\n",
    "\n",
    "Not enough data : [Prévision Météo - Paris - AROME](https://public.opendatasoft.com/explore/dataset/arome-0025-sp1_sp2_paris/export/)  \n",
    "Let's pay for some data ! [Openweather map API](https://openweathermap.org/history-bulk) (10$ for 5 years of weather in paris : a bargain !)\n"
   ]
  },
  {
   "cell_type": "code",
   "execution_count": null,
   "metadata": {},
   "outputs": [],
   "source": [
    "weather = pd.read_csv(\"./data/meteo-paris.csv\")\n",
    "weather['dt'] = pd.to_datetime(weather['dt'],unit='s')\n",
    "weather.set_index('dt',inplace=True)"
   ]
  },
  {
   "cell_type": "code",
   "execution_count": null,
   "metadata": {},
   "outputs": [],
   "source": [
    "weather.head()"
   ]
  },
  {
   "cell_type": "code",
   "execution_count": null,
   "metadata": {},
   "outputs": [],
   "source": [
    "print(weather.index.min())\n",
    "print(weather.index.max())"
   ]
  },
  {
   "cell_type": "code",
   "execution_count": null,
   "metadata": {},
   "outputs": [],
   "source": [
    "weather.resample('D').count()"
   ]
  },
  {
   "cell_type": "markdown",
   "metadata": {},
   "source": [
    "## Weather forecast \n",
    "\n",
    "To make a prediction we will need the weather forecast\n",
    "Let's use an API to get this one"
   ]
  },
  {
   "cell_type": "code",
   "execution_count": 46,
   "metadata": {},
   "outputs": [],
   "source": [
    "import os\n",
    "import requests \n",
    "import pandas as pd\n",
    "\n",
    "token = os.environ[\"OPENWEATHERMAP\"]\n",
    "response = requests.get(\"http://api.openweathermap.org/data/2.5/forecast?id=2988507&mode=json&APPID={}\".format(token)).json()"
   ]
  },
  {
   "cell_type": "markdown",
   "metadata": {},
   "source": [
    "# Days off in France\n",
    "\n",
    "No dataset easily available, we are going to scrap the web :\n",
    "https://www.calendrier-365.fr"
   ]
  },
  {
   "cell_type": "code",
   "execution_count": 37,
   "metadata": {},
   "outputs": [],
   "source": [
    "import re\n",
    "import requests\n",
    "\n",
    "jours_feries = []\n",
    "for year in range(2010,2019):\n",
    "    response = requests.get(\"https://www.calendrier-365.fr/jours-feries/{}.html\".format(year))\n",
    "    jours_feries = jours_feries + re.findall(\"\\d{4}-\\d{2}-\\d{2}\",response.text)"
   ]
  },
  {
   "cell_type": "code",
   "execution_count": null,
   "metadata": {},
   "outputs": [],
   "source": [
    "from bs4 import BeautifulSoup\n",
    "import requests \n",
    "a\n",
    "days_off = []\n",
    "\n",
    "response = requests.get('https://www.calendrier-365.fr/jours-feries/2016.html')"
   ]
  },
  {
   "cell_type": "code",
   "execution_count": null,
   "metadata": {},
   "outputs": [],
   "source": [
    "days_off = []\n",
    "for year in range(2012,2020):\n",
    "    url = 'https://www.calendrier-365.fr/jours-feries/{}.html'.format(year)\n",
    "    response = requests.get(url)\n",
    "    print(\"Scraping: \",url)\n",
    "    soup = BeautifulSoup(response.text,\"lxml\")\n",
    "    for x in soup.find_all(\"span\", {\"itemprop\":\"startDate\"}):\n",
    "        days_off.append(x.attrs[\"content\"])"
   ]
  },
  {
   "cell_type": "code",
   "execution_count": null,
   "metadata": {},
   "outputs": [],
   "source": [
    "days_off"
   ]
  },
  {
   "cell_type": "code",
   "execution_count": null,
   "metadata": {},
   "outputs": [],
   "source": [
    "def is_day_off(date):\n",
    "    \"\"\"\n",
    "    Function to tell if a day is off in France\n",
    "    Only works from 2013 to 2020.\n",
    "    \"\"\"\n",
    "    if date.strftime(\"%Y-%m-%d\") in days_off:\n",
    "        return True\n",
    "    return False"
   ]
  },
  {
   "cell_type": "code",
   "execution_count": null,
   "metadata": {},
   "outputs": [],
   "source": [
    "import datetime\n",
    "\n",
    "today = datetime.datetime.today() \n",
    "\n",
    "next_saturday = today + datetime.timedelta(days=2)\n",
    "christmas = datetime.datetime(2018,12,25)\n",
    "easter = datetime.datetime(2015,4,5)\n",
    "\n",
    "print(is_day_off(next_saturday))\n",
    "print(is_day_off(today))\n",
    "print(is_day_off(christmas))\n",
    "print(is_day_off(easter))"
   ]
  },
  {
   "cell_type": "markdown",
   "metadata": {},
   "source": [
    "# Strikes in Paris\n",
    "Copyright to William Revah"
   ]
  },
  {
   "cell_type": "code",
   "execution_count": 41,
   "metadata": {},
   "outputs": [
    {
     "data": {
      "text/plain": [
       "['1790-07-14',\n",
       " '1790-07-14',\n",
       " '1794-06-08',\n",
       " '1832-06-05',\n",
       " '1832-06-05',\n",
       " '1832-06-05',\n",
       " '1832-06-05',\n",
       " '1840-12-15',\n",
       " '1840-12-15',\n",
       " '1869-10-08',\n",
       " '1869-10-08',\n",
       " '1877-09-08',\n",
       " '1877-09-08',\n",
       " '1885-06-01',\n",
       " '1891-05-01',\n",
       " '1894-07-01',\n",
       " '1908-07-31',\n",
       " '1908-07-31',\n",
       " '1908-07-31',\n",
       " '1931-01-07',\n",
       " '1934-02-12',\n",
       " '1935-07-14',\n",
       " '1936-05-24',\n",
       " '1944-08-26',\n",
       " '1944-08-26',\n",
       " '1951-02',\n",
       " '1953-07-14',\n",
       " '1961-10-17',\n",
       " '1962-02-13',\n",
       " '1968-05-13',\n",
       " '1968-05-30',\n",
       " '1977-07-31',\n",
       " '1983-10-15',\n",
       " '1984-03-04',\n",
       " '1984-06-24',\n",
       " '1986-12-04',\n",
       " '1986-12-10',\n",
       " '1989-07-14',\n",
       " '1994-01-16',\n",
       " '1995-12-12',\n",
       " '1998-07-13',\n",
       " '2002-05-01',\n",
       " '2002-05-01',\n",
       " '2003-05-13',\n",
       " '2003-05-13',\n",
       " '2003-06-03',\n",
       " '2013-05-17',\n",
       " '2013-05-17',\n",
       " '2006-03-18',\n",
       " '2006-03-28',\n",
       " '2013-05-17',\n",
       " '2013-05-17',\n",
       " '2009-01-29',\n",
       " '2009-01-29',\n",
       " '2009-03-19',\n",
       " '2010-03-23',\n",
       " '2010-03-23',\n",
       " '2010-05-27',\n",
       " '2010-06-24',\n",
       " '2010-09-07',\n",
       " '2010-09-23',\n",
       " '2010-10-02',\n",
       " '2010-10-12',\n",
       " '2010-10-16',\n",
       " '2010-10-19',\n",
       " '2010-10-28',\n",
       " '2010-11-06',\n",
       " '2013-01-13',\n",
       " '2013-01-13',\n",
       " '2013-01-13',\n",
       " '2013-01-13',\n",
       " '2013-03-24',\n",
       " '2013-05-26',\n",
       " '2014-02-02',\n",
       " '2014-10-05',\n",
       " '2015-01-10',\n",
       " '2016-03-31',\n",
       " '2016-06-14',\n",
       " '2017-12-09']"
      ]
     },
     "execution_count": 41,
     "metadata": {},
     "output_type": "execute_result"
    }
   ],
   "source": [
    "from bs4 import BeautifulSoup\n",
    "import requests\n",
    "import datetime\n",
    "\n",
    "strikes = []\n",
    "\n",
    "url = \"https://fr.wikipedia.org/wiki/Liste_des_manifestations_les_plus_importantes_en_France\"\n",
    "response = requests.get(url)\n",
    "soup = BeautifulSoup(response.text,\"lxml\")\n",
    "for table in soup.find_all(\"table\"):\n",
    "    for x in table.find_all(\"tr\"):\n",
    "        date=x.find_next(\"time\")\n",
    "        strikes.append(date.attrs[\"datetime\"])\n",
    "\n",
    "print(strikes)\n"
   ]
  },
  {
   "cell_type": "code",
   "execution_count": null,
   "metadata": {},
   "outputs": [],
   "source": []
  }
 ],
 "metadata": {
  "kernelspec": {
   "display_name": "Python 2",
   "language": "python",
   "name": "python2"
  },
  "language_info": {
   "codemirror_mode": {
    "name": "ipython",
    "version": 3
   },
   "file_extension": ".py",
   "mimetype": "text/x-python",
   "name": "python",
   "nbconvert_exporter": "python",
   "pygments_lexer": "ipython3",
   "version": "3.6.5"
  }
 },
 "nbformat": 4,
 "nbformat_minor": 2
}
